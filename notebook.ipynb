{
 "cells": [
  {
   "cell_type": "code",
   "execution_count": 17,
   "metadata": {},
   "outputs": [
    {
     "name": "stdout",
     "output_type": "stream",
     "text": [
      "Musica: nao encontrado\n",
      "Autor: nao encontrado\n",
      "Tom: nao encontrado\n",
      "Acordes: nao encontrados\n",
      "Link: nao encontrado\n"
     ]
    }
   ],
   "source": [
    "from selenium import webdriver\n",
    "from selenium.webdriver.common.by import By\n",
    "\n",
    "#recebe a musica a se buscar\n",
    "busca = input(\"Qual musica deseja buscar no Cifra Club?: \")\n",
    "\n",
    "navegador = webdriver.Chrome()\n",
    "\n",
    "navegador.minimize_window()\n",
    "\n",
    "#abre o cifra club\n",
    "navegador.get(\"https://www.cifraclub.com.br\")\n",
    "\n",
    "#busca a musica\n",
    "navegador.find_element(By.XPATH, '//*[@id=\"js-h-search\"]').send_keys(busca)\n",
    "navegador.find_element(By.XPATH, '//*[@id=\"js-h-form\"]/button').click()\n",
    "try:\n",
    "    navegador.find_element(By.XPATH, '//*[@id=\"___gcse_0\"]/div/div/div/div[5]/div[2]/div/div/div[1]/div[1]/div[1]/div[1]/div/a').click()\n",
    "\n",
    "    #acha o titulo\n",
    "    titulo = navegador.find_element(By.XPATH, '//*[@id=\"js-w-content\"]/div[3]/div[1]/h1').text\n",
    "\n",
    "    #acha o autor\n",
    "    autor = navegador.find_element(By.XPATH, '//*[@id=\"js-w-content\"]/div[3]/div[1]/h2/a').text\n",
    "\n",
    "    #acha o link\n",
    "    link = navegador.find_element(By.XPATH, '/html/head/link[8]')\n",
    "    link = link.get_attribute(\"href\")\n",
    "except:\n",
    "    titulo = \"nao encontrado\"\n",
    "\n",
    "    autor = \"nao encontrado\"\n",
    "\n",
    "    link = \"nao encontrado\"\n",
    "\n",
    "#acha o tom\n",
    "try:\n",
    "    tom = navegador.find_element(By.XPATH, '/html/body/div[1]/div[2]/div[3]/div[1]/div[1]/div[1]/div/div/span[1]/a').text\n",
    "except:\n",
    "    tom = \"nao encontrado\"\n",
    "\n",
    "#acha todos os acordes e armazena numa lista\n",
    "try:\n",
    "    navegador.find_element(By.XPATH, '//*[@id=\"side-acordes\"]').click()\n",
    "\n",
    "    acordes = []\n",
    "except:\n",
    "    acordes = \"nao encontrados\"\n",
    "\n",
    "item = 1\n",
    "while 1:\n",
    "    try:\n",
    "        acordes.append(navegador.find_element(By.XPATH, f'/html/body/div[1]/div[2]/div[5]/div/ul/li[{item}]/div/strong').text)\n",
    "\n",
    "        item += 1\n",
    "    except:\n",
    "        break\n",
    "\n",
    "#imprime todas as informacoes\n",
    "print(\"Musica:\", titulo)\n",
    "\n",
    "print(\"Autor:\", autor)\n",
    "\n",
    "print(\"Tom:\", tom)\n",
    "\n",
    "if acordes != \"nao encontrados\":\n",
    "    print(\"Acordes: \", end=\"\")\n",
    "    for i in range(len(acordes)):\n",
    "        if i != len(acordes)-1:\n",
    "            print(acordes[i], \", \", sep=\"\", end=\"\")\n",
    "        else:\n",
    "            print(acordes[i])\n",
    "else:\n",
    "    print(\"Acordes:\", acordes)\n",
    "\n",
    "print(\"Link:\", link)\n",
    "\n",
    "navegador.close()"
   ]
  }
 ],
 "metadata": {
  "interpreter": {
   "hash": "2ab7680589fdd3206c732db2681072f27be5145574c5dd0ff79ff1f44b66254c"
  },
  "kernelspec": {
   "display_name": "Python 3.10.4 64-bit",
   "language": "python",
   "name": "python3"
  },
  "language_info": {
   "codemirror_mode": {
    "name": "ipython",
    "version": 3
   },
   "file_extension": ".py",
   "mimetype": "text/x-python",
   "name": "python",
   "nbconvert_exporter": "python",
   "pygments_lexer": "ipython3",
   "version": "3.10.4"
  },
  "orig_nbformat": 4
 },
 "nbformat": 4,
 "nbformat_minor": 2
}
